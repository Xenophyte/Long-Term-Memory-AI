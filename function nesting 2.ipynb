{
 "cells": [
  {
   "cell_type": "code",
   "execution_count": 26,
   "metadata": {
    "collapsed": true
   },
   "outputs": [],
   "source": [
    "import pylab\n",
    "import numpy\n",
    "from random import random, randint\n",
    "from copy import deepcopy\n",
    "import networkx as nx\n",
    "import matplotlib.pyplot as plt"
   ]
  },
  {
   "cell_type": "code",
   "execution_count": 34,
   "metadata": {},
   "outputs": [],
   "source": [
    "lib = [{\"type\":\"value\",\"symbol\":\"v\"},{\"type\":\"function\",\"function\":lambda a:a[0]+a[1],\"symbol\":\"+\"},{\"type\":\"function\",\"function\":lambda a:a[0]-a[1],\"symbol\":\"-\"},{\"type\":\"function\",\"function\":lambda a:a[0]*a[1],\"symbol\":\"*\"},{\"type\":\"function\",\"function\":lambda a:a[0]/a[1],\"symbol\":\"/\"}]\n",
    "\n",
    "#a*(b+c)\n",
    "g1 = [{\"lib_id\":0,\"input\":[],\"arg_index\":0},{\"lib_id\":0,\"input\":[],\"arg_index\":1},{\"lib_id\":0,\"input\":[],\"arg_index\":2},{\"lib_id\":1,\"input\":[1,2]},{\"lib_id\":3,\"input\":[0,3]}]\n",
    "#(a+b)**2\n",
    "g2 = [{\"lib_id\":0,\"input\":[],\"arg_index\":1},{\"lib_id\":0,\"input\":[],\"arg_index\":0},{\"lib_id\":3,\"input\":[3,4]},{\"lib_id\":1,\"input\":[0,1]},{\"lib_id\":1,\"input\":[0,1]}]"
   ]
  },
  {
   "cell_type": "code",
   "execution_count": 50,
   "metadata": {},
   "outputs": [
    {
     "name": "stderr",
     "output_type": "stream",
     "text": [
      "/Users/david/anaconda/lib/python3.6/site-packages/networkx/drawing/nx_pylab.py:126: MatplotlibDeprecationWarning: pyplot.hold is deprecated.\n",
      "    Future behavior will be consistent with the long-time default:\n",
      "    plot commands add elements without first clearing the\n",
      "    Axes and/or Figure.\n",
      "  b = plt.ishold()\n",
      "/Users/david/anaconda/lib/python3.6/site-packages/networkx/drawing/nx_pylab.py:138: MatplotlibDeprecationWarning: pyplot.hold is deprecated.\n",
      "    Future behavior will be consistent with the long-time default:\n",
      "    plot commands add elements without first clearing the\n",
      "    Axes and/or Figure.\n",
      "  plt.hold(b)\n",
      "/Users/david/anaconda/lib/python3.6/site-packages/matplotlib/__init__.py:917: UserWarning: axes.hold is deprecated. Please remove it from your matplotlibrc and/or style files.\n",
      "  warnings.warn(self.msg_depr_set % key)\n",
      "/Users/david/anaconda/lib/python3.6/site-packages/matplotlib/rcsetup.py:152: UserWarning: axes.hold is deprecated, will be removed in 3.0\n",
      "  warnings.warn(\"axes.hold is deprecated, will be removed in 3.0\")\n"
     ]
    },
    {
     "data": {
      "image/png": "[encoded data removed]",
      "text/plain": [
       "<matplotlib.figure.Figure at 0x113671518>"
      ]
     },
     "metadata": {},
     "output_type": "display_data"
    }
   ],
   "source": [
    "G1 = G=nx.MultiDiGraph()\n",
    "G1.add_node(0,attr_dict={\"lib_id\":0,\"arg_index\":0})\n",
    "G1.add_node(1,attr_dict={\"lib_id\":0,\"arg_index\":1})\n",
    "G1.add_node(2,attr_dict={\"lib_id\":0,\"arg_index\":2})\n",
    "G1.add_node(3,attr_dict={\"lib_id\":1})\n",
    "G1.add_node(4,attr_dict={\"lib_id\":3})\n",
    "G1.add_edge(1, 3, attr_dict={\"arg\":0})\n",
    "G1.add_edge(2, 3, attr_dict={\"arg\":1})\n",
    "G1.add_edge(0, 4, attr_dict={\"arg\":0})\n",
    "G1.add_edge(3, 4, attr_dict={\"arg\":1})\n",
    "#print(G1.nodes(data=True))\n",
    "#G1.in_edges(3,data=True)\n",
    "labels = {}\n",
    "for n, node in enumerate(G1.nodes(data=True)):\n",
    "    labels[n] = lib[node[1][\"lib_id\"]][\"symbol\"]\n",
    "plt.close()\n",
    "nx.draw(G1,labels = labels,with_labels = True)\n",
    "plt.show()"
   ]
  },
  {
   "cell_type": "code",
   "execution_count": 51,
   "metadata": {
    "collapsed": true
   },
   "outputs": [],
   "source": [
    "def draw(graph):\n",
    "    G = G=nx.MultiDiGraph()\n",
    "    for n, node in enumerate(graph):\n",
    "        G.add_node(n,attr_dict=node)\n",
    "    for n1, node in enumerate(graph):\n",
    "        for i, n2 in enumerate(node[\"input\"]):\n",
    "            G.add_edge(n2, n1, attr_dict={\"arg\":i})\n",
    "    labels = {}\n",
    "    for n, node in enumerate(G.nodes(data=True)):\n",
    "        labels[n] = lib[node[1][\"lib_id\"]][\"symbol\"]\n",
    "    plt.close()\n",
    "    nx.draw(G,labels = labels,with_labels = True)\n",
    "    plt.show()"
   ]
  },
  {
   "cell_type": "code",
   "execution_count": 53,
   "metadata": {},
   "outputs": [
    {
     "name": "stderr",
     "output_type": "stream",
     "text": [
      "/Users/david/anaconda/lib/python3.6/site-packages/networkx/drawing/nx_pylab.py:126: MatplotlibDeprecationWarning: pyplot.hold is deprecated.\n",
      "    Future behavior will be consistent with the long-time default:\n",
      "    plot commands add elements without first clearing the\n",
      "    Axes and/or Figure.\n",
      "  b = plt.ishold()\n",
      "/Users/david/anaconda/lib/python3.6/site-packages/networkx/drawing/nx_pylab.py:138: MatplotlibDeprecationWarning: pyplot.hold is deprecated.\n",
      "    Future behavior will be consistent with the long-time default:\n",
      "    plot commands add elements without first clearing the\n",
      "    Axes and/or Figure.\n",
      "  plt.hold(b)\n",
      "/Users/david/anaconda/lib/python3.6/site-packages/matplotlib/__init__.py:917: UserWarning: axes.hold is deprecated. Please remove it from your matplotlibrc and/or style files.\n",
      "  warnings.warn(self.msg_depr_set % key)\n",
      "/Users/david/anaconda/lib/python3.6/site-packages/matplotlib/rcsetup.py:152: UserWarning: axes.hold is deprecated, will be removed in 3.0\n",
      "  warnings.warn(\"axes.hold is deprecated, will be removed in 3.0\")\n"
     ]
    },
    {
     "data": {
      "image/png": "[encoded data removed]",
      "text/plain": [
       "<matplotlib.figure.Figure at 0x113e6b668>"
      ]
     },
     "metadata": {},
     "output_type": "display_data"
    }
   ],
   "source": [
    "draw(g2)"
   ]
  },
  {
   "cell_type": "code",
   "execution_count": 172,
   "metadata": {
    "collapsed": true
   },
   "outputs": [],
   "source": [
    "#function that takes in a graph and a list of input numbers and evaluates its result\n",
    "def eval(graph,values,index=-1):\n",
    "  #this case corresponds to \n",
    "  if index == -1:\n",
    "    index = find_output_node(graph)\n",
    "  node = graph[index]\n",
    "  lib_entry = lib[node[\"lib_id\"]]\n",
    "  node_type = lib_entry[\"type\"]\n",
    "  if node_type == \"value\":\n",
    "    return values[node[\"arg_index\"]]\n",
    "  else:\n",
    "    args = []\n",
    "    for argument in node[\"input\"]:\n",
    "      arg = eval(graph,values,argument)\n",
    "      args.append(arg)\n",
    "    if node_type == \"function\":\n",
    "        return lib_entry[\"function\"](args)\n",
    "    elif node_type == \"graph\":\n",
    "        return eval(lib_entry[\"graph\"](args),args)\n",
    "\n",
    "\n",
    "def find_output_node(graph):\n",
    "    referenced = []\n",
    "    for node in graph:\n",
    "      referenced += node[\"input\"]\n",
    "    for n, node in enumerate(graph):\n",
    "      if n not in referenced:\n",
    "        return n\n",
    "    \n",
    "def number_of_arguments(graph):\n",
    "    n_arg = 0\n",
    "    for n, node in enumerate(graph):\n",
    "        lib_entry = lib[node[\"lib_id\"]]\n",
    "        node_type = lib_entry[\"type\"]\n",
    "        if node_type == \"value\":\n",
    "            n_arg += 1\n",
    "    return n_arg\n",
    "\n",
    "def input_info(graph):\n",
    "    args = []\n",
    "    for n, node in enumerate(graph):\n",
    "        lib_entry = lib[node[\"lib_id\"]]\n",
    "        node_type = lib_entry[\"type\"]\n",
    "        if node_type == \"value\":\n",
    "            args.append([n,node[\"arg_index\"]])\n",
    "    n_args = len(args)\n",
    "    arguments = [0 for i in range(n_args)]\n",
    "    for arg in args:\n",
    "        arguments[arg[1]] = arg[0]\n",
    "    return arguments\n",
    "\n",
    "def insert_at(donor_graph,recipient_graph,site=-1):\n",
    "    recipient_args = input_info(recipient_graph)\n",
    "    donor_args = input_info(donor_graph)\n",
    "    if site == -1:\n",
    "        site = randint(0,len(recipient_args)-1)\n",
    "    site_index = recipient_args[site]\n",
    "    site_arg_index = recipient_graph[site_index][\"arg_index\"]\n",
    "    donor_output = find_output_node(donor_graph)\n",
    "    new_graph = [deepcopy(node) for node in recipient_graph]\n",
    "    new_graph.pop(site_index)\n",
    "    for n, node in enumerate(new_graph):\n",
    "        lib_entry = lib[node[\"lib_id\"]]\n",
    "        node_type = lib_entry[\"type\"]\n",
    "        if node_type == \"function\" or node_type == \"graph\":\n",
    "            node_input = [ni for ni in node[\"input\"]]\n",
    "            for s, subnode in enumerate(node_input):\n",
    "                if subnode > site_index:\n",
    "                    node_input[s] = subnode - 1\n",
    "                elif subnode == site_index:\n",
    "                    node_input[s] = donor_output + len(new_graph)\n",
    "            node[\"input\"] = node_input\n",
    "        elif node_type == \"value\":\n",
    "            node[\"arg_index\"] -= (1 if node[\"arg_index\"] > site_arg_index else 0)\n",
    "    processed_donor = [deepcopy(node) for node in donor_graph]\n",
    "    for n, node in enumerate(processed_donor):\n",
    "        lib_entry = lib[node[\"lib_id\"]]\n",
    "        node_type = lib_entry[\"type\"]\n",
    "        if node_type == \"function\" or node_type == \"graph\":\n",
    "            node_input = [ni for ni in node[\"input\"]]\n",
    "            node[\"input\"] = [ni + len(new_graph) for ni in node_input]\n",
    "        elif node_type == \"value\":\n",
    "            node[\"arg_index\"] += len(recipient_args) - 1\n",
    "    return new_graph+processed_donor"
   ]
  },
  {
   "cell_type": "code",
   "execution_count": 177,
   "metadata": {},
   "outputs": [
    {
     "data": {
      "image/png": "[encoded data removed]",
      "text/plain": [
       "<matplotlib.figure.Figure at 0x110fc0e80>"
      ]
     },
     "metadata": {},
     "output_type": "display_data"
    }
   ],
   "source": [
    "pylab.close()\n",
    "g3 = insert_at(g2,g1)\n",
    "x = numpy.linspace(-10,10,100)\n",
    "values = [random() for n in range(number_of_arguments(g3))]\n",
    "value_matrix = [[(xe if v == 0 else value) for v, value in enumerate(values)] for xe in x]\n",
    "y = numpy.array([ eval(g3,value_matrix[i]) for i in range(len(value_matrix)) ])\n",
    "pylab.plot(x,y)\n",
    "pylab.show()"
   ]
  },
  {
   "cell_type": "code",
   "execution_count": 6,
   "metadata": {
    "collapsed": true
   },
   "outputs": [],
   "source": []
  }
 ],
 "metadata": {
  "kernelspec": {
   "display_name": "Python [conda root]",
   "language": "python",
   "name": "conda-root-py"
  },
  "language_info": {
   "codemirror_mode": {
    "name": "ipython",
    "version": 3
   },
   "file_extension": ".py",
   "mimetype": "text/x-python",
   "name": "python",
   "nbconvert_exporter": "python",
   "pygments_lexer": "ipython3",
   "version": "3.6.1"
  }
 },
 "nbformat": 4,
 "nbformat_minor": 2
}
