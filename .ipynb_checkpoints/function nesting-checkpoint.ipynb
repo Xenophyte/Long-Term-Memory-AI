{
 "cells": [
  {
   "cell_type": "code",
   "execution_count": 1,
   "metadata": {},
   "outputs": [],
   "source": [
    "import pylab\n",
    "import numpy as np\n",
    "from numpy.random import choice\n",
    "from random import random, randint\n",
    "from copy import deepcopy\n",
    "import networkx as nx\n",
    "from networkx.drawing.nx_agraph import graphviz_layout\n",
    "import matplotlib.pyplot as plt"
   ]
  },
  {
   "cell_type": "code",
   "execution_count": 2,
   "metadata": {
    "collapsed": true
   },
   "outputs": [],
   "source": [
    "#library of elements; there are three types: value, function (+,-,*,/) or graph\n",
    "lib = [{\"type\":\"value\",\"symbol\":\"v\"},\n",
    "       {\"type\":\"function\",\"function\":lambda a:a[0]+a[1],\"symbol\":\"+\"},\n",
    "       {\"type\":\"function\",\"function\":lambda a:a[0]-a[1],\"symbol\":\"-\"},\n",
    "       {\"type\":\"function\",\"function\":lambda a:a[0]*a[1],\"symbol\":\"*\"},\n",
    "       {\"type\":\"function\",\"function\":lambda a:a[0]/a[1],\"symbol\":\"/\"}]\n",
    "#add a graph for each operator\n",
    "for n in range(1,5):\n",
    "    g = {\"type\":\"graph\",\"graph\":[{\"lib_id\":0,\"input\":[],\"arg_index\":0},\n",
    "                                 {\"lib_id\":0,\"input\":[],\"arg_index\":1},\n",
    "                                 {\"lib_id\":n,\"input\":[0,1]}]}\n",
    "    lib.append(g)"
   ]
  },
  {
   "cell_type": "code",
   "execution_count": 68,
   "metadata": {},
   "outputs": [],
   "source": [
    "#function that takes in a graph and a list of input numbers and evaluates its result\n",
    "def eval(graph,values,index=-1):\n",
    "  #this case corresponds to \n",
    "  if index == -1:\n",
    "    index = find_output_node(graph)\n",
    "  node = graph[index]\n",
    "  lib_entry = lib[node[\"lib_id\"]]\n",
    "  node_type = lib_entry[\"type\"]\n",
    "  if node_type == \"value\":\n",
    "    return values[node[\"arg_index\"]]\n",
    "  else:\n",
    "    args = []\n",
    "    for argument in node[\"input\"]:\n",
    "      arg = eval(graph,values,argument)\n",
    "      args.append(arg)\n",
    "    if node_type == \"function\":\n",
    "        return lib_entry[\"function\"](args)\n",
    "    elif node_type == \"graph\":\n",
    "        return eval(lib_entry[\"graph\"](args),args)\n",
    "\n",
    "#returns the position of the output node within the graph\n",
    "def find_output_node(graph):\n",
    "    referenced = []\n",
    "    for node in graph:\n",
    "      referenced += node[\"input\"]\n",
    "    for n, node in enumerate(graph):\n",
    "      if n not in referenced:\n",
    "        return n\n",
    "\n",
    "#returns the number of arguments of a graph\n",
    "def number_of_arguments(graph):\n",
    "    n_arg = 0\n",
    "    for n, node in enumerate(graph):\n",
    "        lib_entry = lib[node[\"lib_id\"]]\n",
    "        node_type = lib_entry[\"type\"]\n",
    "        if node_type == \"value\":\n",
    "            n_arg += 1\n",
    "    return n_arg\n",
    "\n",
    "#returns a list with elements of the type [position of the argument in the graph,argument index in the argument vector]\n",
    "def input_info(graph):\n",
    "    args = []\n",
    "    for n, node in enumerate(graph):\n",
    "        lib_entry = lib[node[\"lib_id\"]]\n",
    "        node_type = lib_entry[\"type\"]\n",
    "        if node_type == \"value\":\n",
    "            args.append([n,node[\"arg_index\"]])\n",
    "    n_args = len(args)\n",
    "    arguments = [0 for i in range(n_args)]\n",
    "    for arg in args:\n",
    "        arguments[arg[1]] = arg[0]\n",
    "    return arguments\n",
    "\n",
    "#function that combines two graphs by using the output node of the second graph as one of the inputs of the first\n",
    "def insert_at(donor_graph,recipient_graph,site=-1):\n",
    "    recipient_args = input_info(recipient_graph)\n",
    "    donor_args = input_info(donor_graph)\n",
    "    if site == -1:\n",
    "        site = randint(0,len(recipient_args)-1)\n",
    "    site_index = recipient_args[site]\n",
    "    site_arg_index = recipient_graph[site_index][\"arg_index\"]\n",
    "    donor_output = find_output_node(donor_graph)\n",
    "    new_graph = [deepcopy(node) for node in recipient_graph]\n",
    "    new_graph.pop(site_index)\n",
    "    for n, node in enumerate(new_graph):\n",
    "        lib_entry = lib[node[\"lib_id\"]]\n",
    "        node_type = lib_entry[\"type\"]\n",
    "        if node_type == \"function\" or node_type == \"graph\":\n",
    "            node_input = [ni for ni in node[\"input\"]]\n",
    "            for s, subnode in enumerate(node_input):\n",
    "                if subnode > site_index:\n",
    "                    node_input[s] = subnode - 1\n",
    "                elif subnode == site_index:\n",
    "                    node_input[s] = donor_output + len(new_graph)\n",
    "            node[\"input\"] = node_input\n",
    "        elif node_type == \"value\":\n",
    "            node[\"arg_index\"] -= (1 if node[\"arg_index\"] > site_arg_index else 0)\n",
    "    processed_donor = [deepcopy(node) for node in donor_graph]\n",
    "    for n, node in enumerate(processed_donor):\n",
    "        lib_entry = lib[node[\"lib_id\"]]\n",
    "        node_type = lib_entry[\"type\"]\n",
    "        if node_type == \"function\" or node_type == \"graph\":\n",
    "            node_input = [ni for ni in node[\"input\"]]\n",
    "            node[\"input\"] = [ni + len(new_graph) for ni in node_input]\n",
    "        elif node_type == \"value\":\n",
    "            node[\"arg_index\"] += len(recipient_args) - 1\n",
    "    return new_graph+processed_donor\n",
    "\n",
    "#this function draws the graph\n",
    "def draw(graph):\n",
    "    G = G=nx.MultiDiGraph()\n",
    "    for n, node in enumerate(graph):\n",
    "        G.add_node(n,attr_dict=node)\n",
    "    for n1, node in enumerate(graph):\n",
    "        for i, n2 in enumerate(node[\"input\"]):\n",
    "            G.add_edge(n2, n1, attr_dict={\"arg\":i})\n",
    "    labels = {}\n",
    "    for n, node in enumerate(G.nodes(data=True)):\n",
    "        labels[n] = lib[node[1][\"lib_id\"]][\"symbol\"]\n",
    "    plt.close()\n",
    "    nx.draw(G,labels = labels,with_labels = True,pos=nx.spring_layout(G))\n",
    "    plt.show()\n",
    "\n",
    "#given a set of parameters and a graph, compute the error relative to a dataset x, y\n",
    "def error(graph,parameters,variable_position,data):\n",
    "    X = data[\"x\"]\n",
    "    Y = data[\"y\"]\n",
    "    e = 0\n",
    "    arg = deepcopy(parameters)\n",
    "    for x,y in zip(X,Y):\n",
    "        arg[variable_position] = x\n",
    "        e += (y-eval(graph,arg))**2\n",
    "    return e\n",
    "\n",
    "#makes updates the parameters of a graph\n",
    "def gradient(function,values):\n",
    "    EPSILON = 0.000000001\n",
    "    value_here = np.array([ function(values) for i in range(len(values)) ])\n",
    "    dx = np.array([[ EPSILON if i == j else 0 for i in range(len(values)) ] for j in range(len(values)) ])\n",
    "    value_there = np.array([ function(values+dx[i]) for i in range(len(values)) ])\n",
    "    grad = (value_there-value_here)/EPSILON\n",
    "    return grad\n",
    "\n",
    "#optimizes a given graph on a set of data points x and y\n",
    "def optimize(graph,data,variable_position=-1):\n",
    "    n_args = number_of_arguments(graph)\n",
    "    #select a random position in the input vector for the x value\n",
    "    if variable_position == -1:\n",
    "        variable_position = randint(0,n_args-1)\n",
    "    #seed input\n",
    "    values = np.array([ random() for i in range(n_args) ])\n",
    "    #do this for a thousand steps\n",
    "    EPSILON = 0.1\n",
    "    TOLERANCE = 0.01\n",
    "    iterations = 0\n",
    "    MAX_ITERATIONS = 100\n",
    "    while True:\n",
    "        grad = gradient(lambda a: error(graph,a,variable_position,data),values)\n",
    "        current_error = error(graph,values,variable_position,data)\n",
    "        #if the accuracy goal has been reached, stop and return the input vector\n",
    "        if current_error < TOLERANCE:\n",
    "            break\n",
    "        while True:\n",
    "            iterations += 1\n",
    "            if iterations > MAX_ITERATIONS:\n",
    "                return {\"X\": variable_position, \"parameters\": values, \"iterations\": iterations, \"error\": current_error}\n",
    "            next_error = error(graph,values - EPSILON*grad,variable_position,data)\n",
    "            #if the change increases the error, reduce the size of the step\n",
    "            if next_error > current_error:\n",
    "                EPSILON *= 0.8\n",
    "            #else just move on\n",
    "            else: \n",
    "                break\n",
    "        values += -EPSILON*grad\n",
    "    return {\"X\": variable_position, \"parameters\": values, \"iterations\": iterations, \"error\": current_error}\n",
    "\n",
    "#fitness of a given graph\n",
    "def unfitness(graph,data):\n",
    "    result = optimize(graph,data,-1)\n",
    "    return result[\"error\"]\n",
    "\n",
    "#takes the items from the library and mixes them to make new graphs until it finds one that fits the data\n",
    "def evolution(data):\n",
    "    TOLERANCE = 0.01\n",
    "    POPULATION_SIZE = 100\n",
    "    #MUTATION_RATE = 0.1\n",
    "    DEATH_RATE = 0.1\n",
    "    population = []\n",
    "    for i in range(POPULATION_SIZE):\n",
    "        graph = choice(lib[5:])[\"graph\"]\n",
    "        population.append(graph)\n",
    "    weights = np.array([ 1/POPULATION_SIZE for i in range(POPULATION_SIZE) ])\n",
    "    for generation in range(20):\n",
    "        #compute weights\n",
    "        errors = np.array([ unfitness(specimen,data) for specimen in population ])\n",
    "        min_error = np.ndarray.min(errors)\n",
    "        if min_error < TOLERANCE:\n",
    "            winner = np.argmin(errors)\n",
    "            return {\"specimen\": population[winner], \"error\": errors[winner]}\n",
    "        weights = errors/sum(errors)\n",
    "        to_die = choice(range(POPULATION_SIZE),size=int(POPULATION_SIZE*DEATH_RATE),p=weights)\n",
    "        new_population = []\n",
    "        for s,specimen in enumerate(population):\n",
    "            if s not in to_die:\n",
    "                new_population.append(specimen)\n",
    "        for i in range(int(POPULATION_SIZE*DEATH_RATE)):\n",
    "            mother = choice(len(population),size=1,p=(1-weights)/sum(1-weights))#[0][\"graph\"]\n",
    "            mother = population[mother[0]]\n",
    "            father = choice(len(population),size=1,p=(1-weights)/sum(1-weights))#[0][\"graph\"]\n",
    "            father = population[father[0]]\n",
    "            child = insert_at(father,mother)\n",
    "            new_population.append(child)\n",
    "        population = deepcopy(new_population)\n",
    "        print(\"min error at generation n.\"+str(generation)+\": \"+str(np.ndarray.min(errors)))\n",
    "    #recompute final errors\n",
    "    errors = np.array([ unfitness(specimen,data) for specimen in population ])\n",
    "    winner = np.argmin(errors)\n",
    "    return {\"specimen\": population[winner], \"error\": errors[winner]}"
   ]
  },
  {
   "cell_type": "code",
   "execution_count": 69,
   "metadata": {},
   "outputs": [
    {
     "name": "stdout",
     "output_type": "stream",
     "text": [
      "min error at generation n.0: 100.0\n",
      "{'specimen': [{'lib_id': 0, 'input': [], 'arg_index': 0}, {'lib_id': 3, 'input': [0, 4]}, {'lib_id': 0, 'input': [], 'arg_index': 1}, {'lib_id': 0, 'input': [], 'arg_index': 2}, {'lib_id': 2, 'input': [2, 3]}], 'error': 0.0072963526069367551}\n"
     ]
    },
    {
     "name": "stderr",
     "output_type": "stream",
     "text": [
      "/Users/david/anaconda/lib/python3.6/site-packages/networkx/drawing/nx_pylab.py:126: MatplotlibDeprecationWarning: pyplot.hold is deprecated.\n",
      "    Future behavior will be consistent with the long-time default:\n",
      "    plot commands add elements without first clearing the\n",
      "    Axes and/or Figure.\n",
      "  b = plt.ishold()\n",
      "/Users/david/anaconda/lib/python3.6/site-packages/networkx/drawing/nx_pylab.py:138: MatplotlibDeprecationWarning: pyplot.hold is deprecated.\n",
      "    Future behavior will be consistent with the long-time default:\n",
      "    plot commands add elements without first clearing the\n",
      "    Axes and/or Figure.\n",
      "  plt.hold(b)\n",
      "/Users/david/anaconda/lib/python3.6/site-packages/matplotlib/__init__.py:917: UserWarning: axes.hold is deprecated. Please remove it from your matplotlibrc and/or style files.\n",
      "  warnings.warn(self.msg_depr_set % key)\n",
      "/Users/david/anaconda/lib/python3.6/site-packages/matplotlib/rcsetup.py:152: UserWarning: axes.hold is deprecated, will be removed in 3.0\n",
      "  warnings.warn(\"axes.hold is deprecated, will be removed in 3.0\")\n"
     ]
    },
    {
     "data": {
      "image/png": "[encoded data removed]",
      "text/plain": [
       "<matplotlib.figure.Figure at 0x110b7a400>"
      ]
     },
     "metadata": {},
     "output_type": "display_data"
    }
   ],
   "source": [
    "#GRAPH STRUCTURE OPTIMIZATION TEST\n",
    "x = np.linspace(-10,10,100)\n",
    "y = 2*x + 1\n",
    "data = {\"x\":x,\"y\":y}\n",
    "e = evolution(data)\n",
    "print(e)\n",
    "draw(e[\"specimen\"])"
   ]
  },
  {
   "cell_type": "code",
   "execution_count": 21,
   "metadata": {},
   "outputs": [
    {
     "name": "stdout",
     "output_type": "stream",
     "text": [
      "{'X': 0, 'parameters': array([ 0.51636347,  1.99875824]), 'iterations': 43, 'error': 0.0052437080221526718}\n"
     ]
    },
    {
     "data": {
      "image/png": "[encoded data removed]",
      "text/plain": [
       "<matplotlib.figure.Figure at 0x1135909b0>"
      ]
     },
     "metadata": {},
     "output_type": "display_data"
    }
   ],
   "source": [
    "#GRAPH PARAMETER OPTIMIZATION TEST\n",
    "pylab.close()\n",
    "x = np.linspace(-10,10,100)\n",
    "y = 2*x\n",
    "pylab.plot(x,y)\n",
    "data = {\"x\":x,\"y\":y}\n",
    "#lib[7] is the A*B graph\n",
    "result = optimize(lib[7][\"graph\"],data,0)\n",
    "print(result)\n",
    "values = result[\"parameters\"]\n",
    "x_pos = result[\"X\"]\n",
    "#input_size*number_of_data_points matrix that contains a list of input vectors like [parameter1, parameter2, x_value, ...]\n",
    "value_matrix = [[(xe if v == x_pos else value) for v, value in enumerate(values)] for xe in x]\n",
    "y = np.array([ eval(lib[7][\"graph\"],value_matrix[i]) for i in range(len(value_matrix)) ])\n",
    "pylab.plot(x,y)\n",
    "pylab.show()"
   ]
  },
  {
   "cell_type": "code",
   "execution_count": 20,
   "metadata": {},
   "outputs": [
    {
     "name": "stderr",
     "output_type": "stream",
     "text": [
      "/Users/david/anaconda/lib/python3.6/site-packages/networkx/drawing/nx_pylab.py:126: MatplotlibDeprecationWarning: pyplot.hold is deprecated.\n",
      "    Future behavior will be consistent with the long-time default:\n",
      "    plot commands add elements without first clearing the\n",
      "    Axes and/or Figure.\n",
      "  b = plt.ishold()\n",
      "/Users/david/anaconda/lib/python3.6/site-packages/networkx/drawing/nx_pylab.py:138: MatplotlibDeprecationWarning: pyplot.hold is deprecated.\n",
      "    Future behavior will be consistent with the long-time default:\n",
      "    plot commands add elements without first clearing the\n",
      "    Axes and/or Figure.\n",
      "  plt.hold(b)\n",
      "/Users/david/anaconda/lib/python3.6/site-packages/matplotlib/__init__.py:917: UserWarning: axes.hold is deprecated. Please remove it from your matplotlibrc and/or style files.\n",
      "  warnings.warn(self.msg_depr_set % key)\n",
      "/Users/david/anaconda/lib/python3.6/site-packages/matplotlib/rcsetup.py:152: UserWarning: axes.hold is deprecated, will be removed in 3.0\n",
      "  warnings.warn(\"axes.hold is deprecated, will be removed in 3.0\")\n"
     ]
    },
    {
     "data": {
      "image/png": "[encoded data removed]",
      "text/plain": [
       "<matplotlib.figure.Figure at 0x1135879b0>"
      ]
     },
     "metadata": {},
     "output_type": "display_data"
    }
   ],
   "source": [
    "draw(lib[7][\"graph\"])"
   ]
  },
  {
   "cell_type": "code",
   "execution_count": 63,
   "metadata": {},
   "outputs": [
    {
     "data": {
      "text/plain": [
       "1"
      ]
     },
     "execution_count": 63,
     "metadata": {},
     "output_type": "execute_result"
    }
   ],
   "source": [
    "np.ndarray.min(np.array([1,2,3]))"
   ]
  },
  {
   "cell_type": "code",
   "execution_count": null,
   "metadata": {
    "collapsed": true
   },
   "outputs": [],
   "source": []
  }
 ],
 "metadata": {
  "kernelspec": {
   "display_name": "Python [conda root]",
   "language": "python",
   "name": "conda-root-py"
  },
  "language_info": {
   "codemirror_mode": {
    "name": "ipython",
    "version": 3
   },
   "file_extension": ".py",
   "mimetype": "text/x-python",
   "name": "python",
   "nbconvert_exporter": "python",
   "pygments_lexer": "ipython3",
   "version": "3.6.1"
  }
 },
 "nbformat": 4,
 "nbformat_minor": 2
}
