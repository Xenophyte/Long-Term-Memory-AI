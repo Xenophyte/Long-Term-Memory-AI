{
 "cells": [
  {
   "cell_type": "code",
   "execution_count": 182,
   "metadata": {},
   "outputs": [
    {
     "ename": "ModuleNotFoundError",
     "evalue": "No module named 'sets'",
     "output_type": "error",
     "traceback": [
      "\u001b[0;31m---------------------------------------------------------------------------\u001b[0m",
      "\u001b[0;31mModuleNotFoundError\u001b[0m                       Traceback (most recent call last)",
      "\u001b[0;32m<ipython-input-182-113a068e760c>\u001b[0m in \u001b[0;36m<module>\u001b[0;34m()\u001b[0m\n\u001b[1;32m      7\u001b[0m \u001b[0;32mfrom\u001b[0m \u001b[0mnetworkx\u001b[0m\u001b[0;34m.\u001b[0m\u001b[0mdrawing\u001b[0m\u001b[0;34m.\u001b[0m\u001b[0mnx_agraph\u001b[0m \u001b[0;32mimport\u001b[0m \u001b[0mgraphviz_layout\u001b[0m\u001b[0;34m\u001b[0m\u001b[0m\n\u001b[1;32m      8\u001b[0m \u001b[0;32mimport\u001b[0m \u001b[0mmatplotlib\u001b[0m\u001b[0;34m.\u001b[0m\u001b[0mpyplot\u001b[0m \u001b[0;32mas\u001b[0m \u001b[0mplt\u001b[0m\u001b[0;34m\u001b[0m\u001b[0m\n\u001b[0;32m----> 9\u001b[0;31m \u001b[0;32mfrom\u001b[0m \u001b[0msets\u001b[0m \u001b[0;32mimport\u001b[0m \u001b[0mSet\u001b[0m\u001b[0;34m\u001b[0m\u001b[0m\n\u001b[0m",
      "\u001b[0;31mModuleNotFoundError\u001b[0m: No module named 'sets'"
     ]
    }
   ],
   "source": [
    "import pylab\n",
    "import numpy as np\n",
    "from numpy.random import choice, randint\n",
    "from random import random, randint\n",
    "from copy import deepcopy\n",
    "import networkx as nx\n",
    "from networkx.drawing.nx_agraph import graphviz_layout\n",
    "import matplotlib.pyplot as plt\n",
    "import math"
   ]
  },
  {
   "cell_type": "code",
   "execution_count": 2,
   "metadata": {
    "collapsed": true
   },
   "outputs": [],
   "source": [
    "#library of elements; there are three types: value, function (+,-,*,/) or graph\n",
    "lib = [{\"type\":\"value\",\"symbol\":\"v\"},\n",
    "       {\"type\":\"function\",\"function\":lambda a:a[0]+a[1],\"symbol\":\"+\"},\n",
    "       {\"type\":\"function\",\"function\":lambda a:a[0]-a[1],\"symbol\":\"-\"},\n",
    "       {\"type\":\"function\",\"function\":lambda a:a[0]*a[1],\"symbol\":\"*\"},\n",
    "       {\"type\":\"function\",\"function\":lambda a:a[0]/a[1],\"symbol\":\"/\"}]\n",
    "#add a graph for each operator\n",
    "for n in range(1,5):\n",
    "    g = {\"type\":\"graph\",\"graph\":[{\"lib_id\":0,\"input\":[],\"arg_index\":0},\n",
    "                                 {\"lib_id\":0,\"input\":[],\"arg_index\":1},\n",
    "                                 {\"lib_id\":n,\"input\":[0,1]}]}\n",
    "    lib.append(g)"
   ]
  },
  {
   "cell_type": "code",
   "execution_count": 351,
   "metadata": {},
   "outputs": [],
   "source": [
    "#function that takes in a graph and a list of input numbers and evaluates its result\n",
    "def eval(graph,values,index=-1):\n",
    "  #this case corresponds to \n",
    "  if index == -1:\n",
    "    index = find_output_node(graph)\n",
    "  node = graph[index]\n",
    "  lib_entry = lib[node[\"lib_id\"]]\n",
    "  node_type = lib_entry[\"type\"]\n",
    "  if node_type == \"value\":\n",
    "    return values[node[\"arg_index\"]]\n",
    "  else:\n",
    "    args = []\n",
    "    for argument in node[\"input\"]:\n",
    "      arg = eval(graph,values,argument)\n",
    "      args.append(arg)\n",
    "    if node_type == \"function\":\n",
    "        return lib_entry[\"function\"](args)\n",
    "    elif node_type == \"graph\":\n",
    "        return eval(lib_entry[\"graph\"](args),args)\n",
    "\n",
    "#returns the position of the output node within the graph\n",
    "def find_output_node(graph):\n",
    "    referenced = []\n",
    "    for node in graph:\n",
    "      referenced += node[\"input\"]\n",
    "    for n, node in enumerate(graph):\n",
    "      if n not in referenced:\n",
    "        return n\n",
    "\n",
    "#returns the number of arguments of a graph\n",
    "def number_of_arguments(graph):\n",
    "    n_arg = 0\n",
    "    for n, node in enumerate(graph):\n",
    "        lib_entry = lib[node[\"lib_id\"]]\n",
    "        node_type = lib_entry[\"type\"]\n",
    "        if node_type == \"value\":\n",
    "            n_arg += 1\n",
    "    return n_arg\n",
    "\n",
    "#returns a list with elements of the type [position of the argument in the graph,argument index in the argument vector]\n",
    "def input_info(graph):\n",
    "    args = []\n",
    "    for n, node in enumerate(graph):\n",
    "        lib_entry = lib[node[\"lib_id\"]]\n",
    "        node_type = lib_entry[\"type\"]\n",
    "        if node_type == \"value\":\n",
    "            args.append([n,node[\"arg_index\"]])\n",
    "    n_args = len(args)\n",
    "    arguments = [0 for i in range(n_args)]\n",
    "    for arg in args:\n",
    "        arguments[arg[1]] = arg[0]\n",
    "    return arguments\n",
    "\n",
    "#function that combines two graphs by using the output node of the second graph as one of the inputs of the first\n",
    "def insert_at(donor_graph,recipient_graph,site=-1):\n",
    "    recipient_args = input_info(recipient_graph)\n",
    "    donor_args = input_info(donor_graph)\n",
    "    if site == -1:\n",
    "        site = randint(0,len(recipient_args)-1)\n",
    "    site_index = recipient_args[site]\n",
    "    site_arg_index = recipient_graph[site_index][\"arg_index\"]\n",
    "    donor_output = find_output_node(donor_graph)\n",
    "    new_graph = [deepcopy(node) for node in recipient_graph]\n",
    "    new_graph.pop(site_index)\n",
    "    for n, node in enumerate(new_graph):\n",
    "        lib_entry = lib[node[\"lib_id\"]]\n",
    "        node_type = lib_entry[\"type\"]\n",
    "        if node_type == \"function\" or node_type == \"graph\":\n",
    "            node_input = [ni for ni in node[\"input\"]]\n",
    "            for s, subnode in enumerate(node_input):\n",
    "                if subnode > site_index:\n",
    "                    node_input[s] = subnode - 1\n",
    "                elif subnode == site_index:\n",
    "                    node_input[s] = donor_output + len(new_graph)\n",
    "            node[\"input\"] = node_input\n",
    "        elif node_type == \"value\":\n",
    "            node[\"arg_index\"] -= (1 if node[\"arg_index\"] > site_arg_index else 0)\n",
    "    processed_donor = [deepcopy(node) for node in donor_graph]\n",
    "    for n, node in enumerate(processed_donor):\n",
    "        lib_entry = lib[node[\"lib_id\"]]\n",
    "        node_type = lib_entry[\"type\"]\n",
    "        if node_type == \"function\" or node_type == \"graph\":\n",
    "            node_input = [ni for ni in node[\"input\"]]\n",
    "            node[\"input\"] = [ni + len(new_graph) for ni in node_input]\n",
    "        elif node_type == \"value\":\n",
    "            node[\"arg_index\"] += len(recipient_args) - 1\n",
    "    return new_graph+processed_donor\n",
    "\n",
    "def print2Dmatrix(matrix):\n",
    "    print('\\n'.join([''.join(['{:4}'.format(item) for item in row]) \n",
    "      for row in matrix]))\n",
    "    \n",
    "def merge_input_entries(graph,i=-1,j=-1):\n",
    "    n_args = number_of_arguments(graph)\n",
    "    if n_args <= 1:\n",
    "        return graph\n",
    "    arg_vector = [k for k in range(0,n_args)]\n",
    "    # if i is out of range pick a random value within range\n",
    "    i = i if i in arg_vector else randint(0,n_args-1)\n",
    "    # if j is out of range pick a random value within range which is different from i\n",
    "    arg_vector.pop(i)\n",
    "    j = j if j in arg_vector else choice(arg_vector)\n",
    "    #index to keep\n",
    "    min_index = min(sorted([i,j]))\n",
    "    #index to replace with min_index\n",
    "    max_index = max(sorted([i,j]))\n",
    "    input_indexes = input_info(graph)\n",
    "    new_graph = deepcopy(graph)\n",
    "    #remove node corresponding to max_index in the input vector\n",
    "    kept_node_index = input_indexes[min_index]\n",
    "    scrapped_node_index = input_indexes[max_index]\n",
    "    del new_graph[scrapped_node_index]\n",
    "    #update all references within graph:\n",
    "    #create a mapping for the updated positions in the input vector\n",
    "    input_mapping = [index if index < max_index else (min_index if index == max_index else index-1) for index in range(n_args)]\n",
    "    #create a mapping for the updated positions in the graph\n",
    "    if kept_node_index < scrapped_node_index:\n",
    "        graph_mapping = [index if index < scrapped_node_index else (kept_node_index if index == scrapped_node_index else index-1) for index in range(len(graph))]\n",
    "    elif kept_node_index > scrapped_node_index:\n",
    "        graph_mapping = [index if index < scrapped_node_index else (kept_node_index - 1 if index == scrapped_node_index else index-1) for index in range(len(graph))]\n",
    "    #update the references\n",
    "    for node in new_graph:\n",
    "        node[\"input\"] = [ graph_mapping[n] for n in node[\"input\"] ]\n",
    "        for n in node[\"input\"]:\n",
    "            n = graph_mapping[n]\n",
    "        #if it's an input node, update arg_index\n",
    "        if len(node[\"input\"]) == 0:\n",
    "            node[\"arg_index\"] = input_mapping[node[\"arg_index\"]]\n",
    "    return new_graph\n",
    "\n",
    "#this function draws the graph\n",
    "def draw(graph):\n",
    "    G = G=nx.MultiDiGraph()\n",
    "    for n, node in enumerate(graph):\n",
    "        G.add_node(n,attr_dict=node)\n",
    "    for n1, node in enumerate(graph):\n",
    "        for i, n2 in enumerate(node[\"input\"]):\n",
    "            G.add_edge(n2, n1, attr_dict={\"arg\":i})\n",
    "    labels = {}\n",
    "    for n, node in enumerate(G.nodes(data=True)):\n",
    "        symbol = lib[node[1][\"lib_id\"]][\"symbol\"]\n",
    "        labels[n] = symbol if symbol != \"v\" else node[1][\"arg_index\"]\n",
    "    plt.close()\n",
    "    nx.draw(G,labels = labels,with_labels = True,pos=nx.spring_layout(G))\n",
    "    plt.show()\n",
    "\n",
    "#plot a 1D graph of the function given some parameters\n",
    "def plot_specimen(graph,values,x_range=[-10,10],variable_position=-1):\n",
    "    #pylab.close()\n",
    "    x = np.linspace(x_range[0],x_range[1],100)\n",
    "    n_args = number_of_arguments(graph)\n",
    "    x_pos = variable_position if variable_position in range(n_args) else randint(0,n_args-1)\n",
    "    #input_size*number_of_data_points matrix that contains a list of input vectors like [parameter1, parameter2, x_value, ...]\n",
    "    value_matrix = [[(xe if v == x_pos else value) for v, value in enumerate(values)] for xe in x]\n",
    "    y = np.array([ eval(lib[7][\"graph\"],value_matrix[i]) for i in range(len(value_matrix)) ])\n",
    "    pylab.plot(x,y)\n",
    "    pylab.show()\n",
    "\n",
    "#plot the optimal fit os a graph onto a set of data points\n",
    "def plot_optimized(graph,data):\n",
    "    pylab.plot(data[\"x\"],data[\"y\"])\n",
    "    error = 10**10\n",
    "    for i in range(number_of_arguments(graph)):\n",
    "        result = optimize(graph,data,i)\n",
    "        if result[\"error\"] < error:\n",
    "            error = result[\"error\"]\n",
    "            values = result[\"parameters\"]\n",
    "            x_pos = result[\"X\"]\n",
    "    plot_specimen(graph,values,[min(x),max(x)],x_pos)\n",
    "\n",
    "#given a set of parameters and a graph, compute the error relative to a dataset x, y\n",
    "def error(graph,parameters,variable_position,data):\n",
    "    X = data[\"x\"]\n",
    "    Y = data[\"y\"]\n",
    "    e = 0\n",
    "    arg = deepcopy(parameters)\n",
    "    for x,y in zip(X,Y):\n",
    "        arg[variable_position] = x\n",
    "        e += (y-eval(graph,arg))**2\n",
    "    return e if e == e else 10**10\n",
    "\n",
    "#makes updates the parameters of a graph\n",
    "def gradient(function,values):\n",
    "    EPSILON = 0.000000001\n",
    "    value_here = np.array([ function(values) for i in range(len(values)) ])\n",
    "    dx = np.array([[ EPSILON if i == j else 0 for i in range(len(values)) ] for j in range(len(values)) ])\n",
    "    value_there = np.array([ function(values+dx[i]) for i in range(len(values)) ])\n",
    "    grad = (value_there-value_here)/EPSILON\n",
    "    return grad\n",
    "\n",
    "#optimizes a given graph on a set of data points x and y\n",
    "def optimize(graph,data,variable_position=-1):\n",
    "    n_args = number_of_arguments(graph)\n",
    "    #select a random position in the input vector for the x value\n",
    "    if variable_position == -1:\n",
    "        variable_position = randint(0,n_args-1)\n",
    "    #seed input\n",
    "    values = np.array([ random() for i in range(n_args) ])\n",
    "    #do this for a thousand steps\n",
    "    EPSILON = 0.1\n",
    "    TOLERANCE = 0.01\n",
    "    iterations = 0\n",
    "    MAX_ITERATIONS = 100\n",
    "    while True:\n",
    "        grad = gradient(lambda a: error(graph,a,variable_position,data),values)\n",
    "        current_error = error(graph,values,variable_position,data)\n",
    "        #if the accuracy goal has been reached, stop and return the input vector\n",
    "        if current_error < TOLERANCE:\n",
    "            break\n",
    "        while True:\n",
    "            iterations += 1\n",
    "            if iterations > MAX_ITERATIONS:\n",
    "                return {\"X\": variable_position, \"parameters\": values, \"iterations\": iterations, \"error\": current_error}\n",
    "            next_error = error(graph,values - EPSILON*grad,variable_position,data)\n",
    "            #if the change increases the error, reduce the size of the step\n",
    "            if next_error > current_error:\n",
    "                EPSILON *= 0.8\n",
    "            #else just move on\n",
    "            else: \n",
    "                break\n",
    "        values += -EPSILON*grad\n",
    "    return {\"X\": variable_position, \"parameters\": values, \"iterations\": iterations, \"error\": current_error}\n",
    "\n",
    "#fitness of a given graph\n",
    "def unfitness(graph,data):\n",
    "    result = optimize(graph,data,-1)\n",
    "    return result[\"error\"]\n",
    "\n",
    "#takes the items from the library and mixes them to make new graphs until it finds one that fits the data\n",
    "def evolution(data):\n",
    "    ACCURACY_GOAL = 0.01\n",
    "    POPULATION_SIZE = 100\n",
    "    MUTATION_RATE = 0.2\n",
    "    BIRTH_RATE = 0.2\n",
    "    DEATH_RATE = MUTATION_RATE + BIRTH_RATE\n",
    "    population = []\n",
    "    #create the initial population\n",
    "    for i in range(POPULATION_SIZE):\n",
    "        graph = choice(lib[5:])[\"graph\"]\n",
    "        population.append(graph)\n",
    "    weights = np.array([ 1/POPULATION_SIZE for i in range(POPULATION_SIZE) ])\n",
    "    #evolve\n",
    "    for generation in range(20):\n",
    "        #compute weights\n",
    "        errors = np.array([ unfitness(specimen,data) for specimen in population ])\n",
    "        #stop if minimum error is below the accuracy goal\n",
    "        min_error = np.ndarray.min(errors)\n",
    "        if min_error < ACCURACY_GOAL:\n",
    "            winner = np.argmin(errors)\n",
    "            return {\"specimen\": population[winner], \"error\": errors[winner]}\n",
    "        weights = errors/sum(errors)\n",
    "        #debug\n",
    "        #winner = np.argmin(errors)\n",
    "        #print(\"fittest specimen:\")\n",
    "        #draw(population[winner])\n",
    "        #print(\"and its parameters:\")\n",
    "        #for i in range(number_of_arguments(population[winner])):\n",
    "        #    print(optimize(population[winner],data,i))\n",
    "        #debug\n",
    "        new_population = deepcopy(population)\n",
    "        temp_weights = deepcopy(weights)\n",
    "        #DEATH ROUND\n",
    "        #kill int(POPULATION_SIZE*DEATH_RATE) graphs\n",
    "        for kill in range(int(POPULATION_SIZE*DEATH_RATE)):\n",
    "            to_die = choice(len(new_population),size=1,p=temp_weights)[0]\n",
    "            temp_weights = np.delete(temp_weights,to_die)\n",
    "            temp_weights = temp_weights/np.sum(temp_weights)\n",
    "            new_population.pop(to_die)\n",
    "        #MUTATION ROUND\n",
    "        #add int(POPULATION_SIZE*MUTATION_RATE) new graphs\n",
    "        mutants = 0\n",
    "        for i in range(int(POPULATION_SIZE*MUTATION_RATE)):\n",
    "            mutant = choice(len(population),size=1)#[0][\"graph\"]\n",
    "            mutant = population[mutant[0]]\n",
    "            mutant = merge_input_entries(mutant)\n",
    "            new_population.append(mutant)\n",
    "            mutants+=1\n",
    "        #REPRODUCTION ROUND\n",
    "        #add int(POPULATION_SIZE*BIRTH_RATE) new graphs\n",
    "        babies = 0\n",
    "        for i in range(int(POPULATION_SIZE*BIRTH_RATE)):\n",
    "            mother = choice(len(population),size=1,p=(1-weights)/sum(1-weights))#[0][\"graph\"]\n",
    "            mother = population[mother[0]]\n",
    "            father = choice(len(population),size=1,p=(1-weights)/sum(1-weights))#[0][\"graph\"]\n",
    "            father = population[father[0]]\n",
    "            child = insert_at(father,mother)\n",
    "            new_population.append(child)\n",
    "            babies+=1\n",
    "        population = deepcopy(new_population)\n",
    "        print(\"min error at generation n.\"+str(generation)+\": \"+str(np.ndarray.min(errors)))\n",
    "    #recompute final errors\n",
    "    errors = np.array([ unfitness(specimen,data) for specimen in population ])\n",
    "    winner = np.argmin(errors)\n",
    "    return {\"specimen\": population[winner], \"error\": errors[winner]}"
   ]
  },
  {
   "cell_type": "code",
   "execution_count": null,
   "metadata": {},
   "outputs": [
    {
     "name": "stderr",
     "output_type": "stream",
     "text": [
      "/Users/david/anaconda/lib/python3.6/site-packages/ipykernel/__main__.py:6: RuntimeWarning: divide by zero encountered in double_scalars\n",
      "/Users/david/anaconda/lib/python3.6/site-packages/ipykernel/__main__.py:164: RuntimeWarning: invalid value encountered in subtract\n"
     ]
    },
    {
     "name": "stdout",
     "output_type": "stream",
     "text": [
      "min error at generation n.0: 0.739435149101\n"
     ]
    },
    {
     "name": "stderr",
     "output_type": "stream",
     "text": [
      "/Users/david/anaconda/lib/python3.6/site-packages/ipykernel/__main__.py:6: RuntimeWarning: invalid value encountered in double_scalars\n"
     ]
    },
    {
     "name": "stdout",
     "output_type": "stream",
     "text": [
      "min error at generation n.1: 0.409355297895\n",
      "min error at generation n.2: 0.409355296783\n",
      "min error at generation n.3: 0.409355297014\n",
      "min error at generation n.4: 0.409355296702\n",
      "min error at generation n.5: 0.409355297022\n",
      "min error at generation n.6: 0.125154821688\n",
      "min error at generation n.7: 0.409355296667\n"
     ]
    },
    {
     "name": "stderr",
     "output_type": "stream",
     "text": [
      "/Users/david/anaconda/lib/python3.6/site-packages/ipykernel/__main__.py:5: RuntimeWarning: invalid value encountered in double_scalars\n"
     ]
    },
    {
     "name": "stdout",
     "output_type": "stream",
     "text": [
      "min error at generation n.8: 0.409355297711\n",
      "min error at generation n.9: 0.409355298894\n",
      "min error at generation n.10: 0.0140970212751\n",
      "min error at generation n.11: 0.107772733228\n",
      "min error at generation n.12: 0.0139904886498\n",
      "min error at generation n.13: 0.0164919307023\n",
      "min error at generation n.14: 0.298155649605\n",
      "min error at generation n.15: 0.0180915606478\n"
     ]
    }
   ],
   "source": [
    "#GRAPH STRUCTURE OPTIMIZATION TEST\n",
    "x = np.linspace(0,math.pi/2,100)\n",
    "y = np.sin(x)#2*x + 1\n",
    "data = {\"x\":x,\"y\":y}\n",
    "e = evolution(data)\n",
    "print(e)\n",
    "print(\"fittest specimen:\")\n",
    "draw(e[\"specimen\"])\n",
    "print(\"and its parameters:\")\n",
    "for i in range(number_of_arguments(e[\"specimen\"])):\n",
    "    print(optimize(e[\"specimen\"],data,i))"
   ]
  },
  {
   "cell_type": "code",
   "execution_count": 21,
   "metadata": {},
   "outputs": [
    {
     "name": "stdout",
     "output_type": "stream",
     "text": [
      "{'X': 0, 'parameters': array([ 0.51636347,  1.99875824]), 'iterations': 43, 'error': 0.0052437080221526718}\n"
     ]
    },
    {
     "data": {
      "image/png": "[encoded data removed]",
      "text/plain": [
       "<matplotlib.figure.Figure at 0x1135909b0>"
      ]
     },
     "metadata": {},
     "output_type": "display_data"
    }
   ],
   "source": [
    "#GRAPH PARAMETER OPTIMIZATION TEST\n",
    "pylab.close()\n",
    "x = np.linspace(-10,10,100)\n",
    "y = 2*x\n",
    "pylab.plot(x,y)\n",
    "data = {\"x\":x,\"y\":y}\n",
    "#lib[7] is the A*B graph\n",
    "result = optimize(lib[7][\"graph\"],data,0)\n",
    "print(result)\n",
    "values = result[\"parameters\"]\n",
    "x_pos = result[\"X\"]\n",
    "#input_size*number_of_data_points matrix that contains a list of input vectors like [parameter1, parameter2, x_value, ...]\n",
    "value_matrix = [[(xe if v == x_pos else value) for v, value in enumerate(values)] for xe in x]\n",
    "y = np.array([ eval(lib[7][\"graph\"],value_matrix[i]) for i in range(len(value_matrix)) ])\n",
    "pylab.plot(x,y)\n",
    "pylab.show()"
   ]
  },
  {
   "cell_type": "code",
   "execution_count": 20,
   "metadata": {},
   "outputs": [
    {
     "name": "stderr",
     "output_type": "stream",
     "text": [
      "/Users/david/anaconda/lib/python3.6/site-packages/networkx/drawing/nx_pylab.py:126: MatplotlibDeprecationWarning: pyplot.hold is deprecated.\n",
      "    Future behavior will be consistent with the long-time default:\n",
      "    plot commands add elements without first clearing the\n",
      "    Axes and/or Figure.\n",
      "  b = plt.ishold()\n",
      "/Users/david/anaconda/lib/python3.6/site-packages/networkx/drawing/nx_pylab.py:138: MatplotlibDeprecationWarning: pyplot.hold is deprecated.\n",
      "    Future behavior will be consistent with the long-time default:\n",
      "    plot commands add elements without first clearing the\n",
      "    Axes and/or Figure.\n",
      "  plt.hold(b)\n",
      "/Users/david/anaconda/lib/python3.6/site-packages/matplotlib/__init__.py:917: UserWarning: axes.hold is deprecated. Please remove it from your matplotlibrc and/or style files.\n",
      "  warnings.warn(self.msg_depr_set % key)\n",
      "/Users/david/anaconda/lib/python3.6/site-packages/matplotlib/rcsetup.py:152: UserWarning: axes.hold is deprecated, will be removed in 3.0\n",
      "  warnings.warn(\"axes.hold is deprecated, will be removed in 3.0\")\n"
     ]
    },
    {
     "data": {
      "image/png": "[encoded data removed]",
      "text/plain": [
       "<matplotlib.figure.Figure at 0x1135879b0>"
      ]
     },
     "metadata": {},
     "output_type": "display_data"
    }
   ],
   "source": [
    "draw(lib[7][\"graph\"])"
   ]
  },
  {
   "cell_type": "code",
   "execution_count": 326,
   "metadata": {
    "collapsed": true
   },
   "outputs": [],
   "source": []
  },
  {
   "cell_type": "code",
   "execution_count": 327,
   "metadata": {},
   "outputs": [
    {
     "name": "stderr",
     "output_type": "stream",
     "text": [
      "/Users/david/anaconda/lib/python3.6/site-packages/networkx/drawing/nx_pylab.py:126: MatplotlibDeprecationWarning: pyplot.hold is deprecated.\n",
      "    Future behavior will be consistent with the long-time default:\n",
      "    plot commands add elements without first clearing the\n",
      "    Axes and/or Figure.\n",
      "  b = plt.ishold()\n",
      "/Users/david/anaconda/lib/python3.6/site-packages/networkx/drawing/nx_pylab.py:138: MatplotlibDeprecationWarning: pyplot.hold is deprecated.\n",
      "    Future behavior will be consistent with the long-time default:\n",
      "    plot commands add elements without first clearing the\n",
      "    Axes and/or Figure.\n",
      "  plt.hold(b)\n",
      "/Users/david/anaconda/lib/python3.6/site-packages/matplotlib/__init__.py:917: UserWarning: axes.hold is deprecated. Please remove it from your matplotlibrc and/or style files.\n",
      "  warnings.warn(self.msg_depr_set % key)\n",
      "/Users/david/anaconda/lib/python3.6/site-packages/matplotlib/rcsetup.py:152: UserWarning: axes.hold is deprecated, will be removed in 3.0\n",
      "  warnings.warn(\"axes.hold is deprecated, will be removed in 3.0\")\n"
     ]
    },
    {
     "data": {
      "image/png": "[encoded data removed]",
      "text/plain": [
       "<matplotlib.figure.Figure at 0x111d66b70>"
      ]
     },
     "metadata": {},
     "output_type": "display_data"
    },
    {
     "name": "stdout",
     "output_type": "stream",
     "text": [
      "reference update: \n"
     ]
    },
    {
     "data": {
      "image/png": "[encoded data removed]",
      "text/plain": [
       "<matplotlib.figure.Figure at 0x111bccc50>"
      ]
     },
     "metadata": {},
     "output_type": "display_data"
    }
   ],
   "source": [
    "g3 = insert_at(lib[5][\"graph\"],lib[6][\"graph\"])\n",
    "draw(g3)\n",
    "g4 = merge_input_entries(g3)\n",
    "draw(g4)"
   ]
  },
  {
   "cell_type": "code",
   "execution_count": 353,
   "metadata": {},
   "outputs": [
    {
     "data": {
      "text/plain": [
       "3.141592653589793"
      ]
     },
     "execution_count": 353,
     "metadata": {},
     "output_type": "execute_result"
    }
   ],
   "source": [
    "math.pi"
   ]
  },
  {
   "cell_type": "code",
   "execution_count": null,
   "metadata": {
    "collapsed": true
   },
   "outputs": [],
   "source": []
  }
 ],
 "metadata": {
  "kernelspec": {
   "display_name": "Python [conda root]",
   "language": "python",
   "name": "conda-root-py"
  },
  "language_info": {
   "codemirror_mode": {
    "name": "ipython",
    "version": 3
   },
   "file_extension": ".py",
   "mimetype": "text/x-python",
   "name": "python",
   "nbconvert_exporter": "python",
   "pygments_lexer": "ipython3",
   "version": "3.6.1"
  }
 },
 "nbformat": 4,
 "nbformat_minor": 2
}
