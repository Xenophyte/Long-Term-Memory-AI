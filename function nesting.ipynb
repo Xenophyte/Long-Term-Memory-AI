{
 "cells": [
  {
   "cell_type": "code",
   "execution_count": 38,
   "metadata": {},
   "outputs": [],
   "source": [
    "import pylab\n",
    "import numpy\n",
    "from random import random, randint"
   ]
  },
  {
   "cell_type": "code",
   "execution_count": 58,
   "metadata": {},
   "outputs": [],
   "source": [
    "def eval(graph,values,index=-1):\n",
    "  if index == -1:\n",
    "    index = find_output_node(graph)\n",
    "  node = graph[index]\n",
    "  if lib[node[\"lib_id\"]] == \"value\":\n",
    "    return values[node[\"arg_index\"]]\n",
    "  else:\n",
    "    args = []\n",
    "    for argument in node[\"input\"]:\n",
    "      arg = eval(graph,values,argument)\n",
    "      args.append(arg)\n",
    "    return lib[node[\"lib_id\"]](args)\n",
    "\n",
    "def find_output_node(graph):\n",
    "    referenced = []\n",
    "    for node in graph:\n",
    "      referenced += node[\"input\"]\n",
    "    for n, node in enumerate(graph):\n",
    "      if n not in referenced:\n",
    "        return n\n",
    "    \n",
    "def number_of_arguments(graph):\n",
    "    n_arg = 0\n",
    "    for n, node in enumerate(graph):\n",
    "        if lib[node[\"lib_id\"]] == \"value\":\n",
    "            n_arg += 1\n",
    "    return n_arg"
   ]
  },
  {
   "cell_type": "code",
   "execution_count": null,
   "metadata": {
    "collapsed": true
   },
   "outputs": [],
   "source": [
    "lib = [\"value\",lambda a:a[0]+a[1],lambda a:a[0]-a[1],lambda a:a[0]*a[1],lambda a:a[0]/a[1]]\n",
    "\n",
    "#a*(b+c)\n",
    "g1 = [{\"lib_id\":0,\"input\":[],\"arg_index\":0},{\"lib_id\":0,\"input\":[],\"arg_index\":1},{\"lib_id\":0,\"input\":[],\"arg_index\":2},{\"lib_id\":1,\"input\":[1,2]},{\"lib_id\":3,\"input\":[0,3]}]\n",
    "#(a+b)**2\n",
    "g2 = [{\"lib_id\":0,\"input\":[],\"arg_index\":0},{\"lib_id\":0,\"input\":[],\"arg_index\":1},{\"lib_id\":3,\"input\":[3,4]},{\"lib_id\":1,\"input\":[0,1]},{\"lib_id\":1,\"input\":[0,1]}]"
   ]
  },
  {
   "cell_type": "code",
   "execution_count": 64,
   "metadata": {},
   "outputs": [
    {
     "data": {
      "image/png": "[encoded data removed]",
      "text/plain": [
       "<matplotlib.figure.Figure at 0x111115a20>"
      ]
     },
     "metadata": {},
     "output_type": "display_data"
    }
   ],
   "source": [
    "pylab.close()\n",
    "x = numpy.linspace(-10,10,100)\n",
    "values = [random() for n in range(number_of_arguments(g2))]\n",
    "value_matrix = [[(xe if v == 0 else value) for v, value in enumerate(values)] for xe in x]\n",
    "y = numpy.array([ eval(g2,value_matrix[i]) for i in range(len(value_matrix)) ])\n",
    "pylab.plot(x,y)\n",
    "\n",
    "pylab.show()"
   ]
  },
  {
   "cell_type": "code",
   "execution_count": null,
   "metadata": {
    "collapsed": true
   },
   "outputs": [],
   "source": []
  }
 ],
 "metadata": {
  "kernelspec": {
   "display_name": "Python [conda root]",
   "language": "python",
   "name": "conda-root-py"
  },
  "language_info": {
   "codemirror_mode": {
    "name": "ipython",
    "version": 3
   },
   "file_extension": ".py",
   "mimetype": "text/x-python",
   "name": "python",
   "nbconvert_exporter": "python",
   "pygments_lexer": "ipython3",
   "version": "3.6.1"
  }
 },
 "nbformat": 4,
 "nbformat_minor": 2
}
