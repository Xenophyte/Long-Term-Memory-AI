{
 "cells": [
  {
   "cell_type": "code",
   "execution_count": 6,
   "metadata": {},
   "outputs": [],
   "source": [
    "import pylab\n",
    "import numpy\n",
    "from random import random\n",
    "\n",
    "lib = []\n",
    "args = []\n",
    "lib.append( lambda *a: a[0]*a[1]+a[2] )\n",
    "args.append([\"parameter\",\"variable\",\"parameter\"])\n",
    "lib.append( lambda *a: a[0]*a[1] )\n",
    "args.append([\"parameter\",\"variable\"])\n",
    "lib.append( lambda *a: lib[0](a[0],a[1],lib[1](a[0],a[1]))  )\n",
    "args.append([\"parameter\",\"variable\"])\n",
    "\n",
    "#I would have prefered to use a list of dictionaries but I can't get it to work (it raises an error when I call lib[2][\"function\"])\n",
    "#element = {}\n",
    "#element[\"function\"] = lambda *a: a[0]*a[1]+a[2]\n",
    "#element[\"args\"] = [\"parameter\",\"variable\",\"parameter\"]\n",
    "#lib.append(element)\n",
    "#element = {}\n",
    "#element[\"function\"] = lambda *a: a[0]*a[1]\n",
    "#element[\"args\"] = [\"parameter\",\"variable\"]\n",
    "#lib.append(element)\n",
    "#element = {}\n",
    "#element[\"function\"] = lambda *a: lib[0](a[0],a[1],lib[1](a[0],a[1]))\n",
    "#element[\"args\"] = [\"parameter\",\"variable\"]\n",
    "#lib.append(element)"
   ]
  },
  {
   "cell_type": "code",
   "execution_count": 29,
   "metadata": {},
   "outputs": [
    {
     "data": {
      "image/png": "[encoded data removed]",
      "text/plain": [
       "<matplotlib.figure.Figure at 0x110e63400>"
      ]
     },
     "metadata": {},
     "output_type": "display_data"
    }
   ],
   "source": [
    "pylab.close()\n",
    "x = numpy.linspace(-10,10,100)\n",
    "for arguments, function in zip(args,lib):\n",
    "    random_values = [random() for argument in arguments ]\n",
    "    value_matrix = [ [ (xe if argument == \"variable\" else value) for argument, value in zip(arguments,random_values) ] for xe in x ]\n",
    "    y = numpy.array([ function(*value_matrix[i]) for i in range(len(value_matrix)) ])\n",
    "    pylab.plot(x,y)\n",
    "\n",
    "pylab.show()"
   ]
  },
  {
   "cell_type": "code",
   "execution_count": null,
   "metadata": {
    "collapsed": true
   },
   "outputs": [],
   "source": []
  }
 ],
 "metadata": {
  "kernelspec": {
   "display_name": "Python [conda root]",
   "language": "python",
   "name": "conda-root-py"
  },
  "language_info": {
   "codemirror_mode": {
    "name": "ipython",
    "version": 3
   },
   "file_extension": ".py",
   "mimetype": "text/x-python",
   "name": "python",
   "nbconvert_exporter": "python",
   "pygments_lexer": "ipython3",
   "version": "3.6.1"
  }
 },
 "nbformat": 4,
 "nbformat_minor": 2
}
