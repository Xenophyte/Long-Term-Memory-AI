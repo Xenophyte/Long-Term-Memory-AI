{
 "cells": [
  {
   "cell_type": "code",
   "execution_count": 158,
   "metadata": {},
   "outputs": [],
   "source": [
    "import pylab\n",
    "import numpy\n",
    "from random import random, randint\n",
    "from copy import deepcopy"
   ]
  },
  {
   "cell_type": "code",
   "execution_count": 159,
   "metadata": {},
   "outputs": [],
   "source": [
    "lib = [{\"type\":\"value\"},{\"type\":\"function\",\"function\":lambda a:a[0]+a[1]},{\"type\":\"function\",\"function\":lambda a:a[0]-a[1]},{\"type\":\"function\",\"function\":lambda a:a[0]*a[1]},{\"type\":\"function\",\"function\":lambda a:a[0]/a[1]}]\n",
    "\n",
    "#a*(b+c)\n",
    "g1 = [{\"lib_id\":0,\"input\":[],\"arg_index\":0},{\"lib_id\":0,\"input\":[],\"arg_index\":1},{\"lib_id\":0,\"input\":[],\"arg_index\":2},{\"lib_id\":1,\"input\":[1,2]},{\"lib_id\":3,\"input\":[0,3]}]\n",
    "#(a+b)**2\n",
    "g2 = [{\"lib_id\":0,\"input\":[],\"arg_index\":1},{\"lib_id\":0,\"input\":[],\"arg_index\":0},{\"lib_id\":3,\"input\":[3,4]},{\"lib_id\":1,\"input\":[0,1]},{\"lib_id\":1,\"input\":[0,1]}]"
   ]
  },
  {
   "cell_type": "code",
   "execution_count": 171,
   "metadata": {},
   "outputs": [
    {
     "name": "stdout",
     "output_type": "stream",
     "text": [
      "[{'lib_id': 0, 'input': [], 'arg_index': 0}, {'lib_id': 3, 'input': [2, 3]}, {'lib_id': 1, 'input': [8, 0]}, {'lib_id': 1, 'input': [8, 0]}, {'lib_id': 0, 'input': [], 'arg_index': 1}, {'lib_id': 0, 'input': [], 'arg_index': 2}, {'lib_id': 0, 'input': [], 'arg_index': 3}, {'lib_id': 1, 'input': [5, 6]}, {'lib_id': 3, 'input': [4, 7]}]\n"
     ]
    }
   ],
   "source": [
    "def eval(graph,values,index=-1):\n",
    "  if index == -1:\n",
    "    index = find_output_node(graph)\n",
    "  node = graph[index]\n",
    "  lib_entry = lib[node[\"lib_id\"]]\n",
    "  node_type = lib_entry[\"type\"]\n",
    "  if node_type == \"value\":\n",
    "    return values[node[\"arg_index\"]]\n",
    "  else:\n",
    "    args = []\n",
    "    for argument in node[\"input\"]:\n",
    "      arg = eval(graph,values,argument)\n",
    "      args.append(arg)\n",
    "    if node_type == \"function\":\n",
    "        return lib_entry[\"function\"](args)\n",
    "    elif node_type == \"graph\":\n",
    "        return eval(lib_entry[\"graph\"](args),args)\n",
    "\n",
    "def find_output_node(graph):\n",
    "    referenced = []\n",
    "    for node in graph:\n",
    "      referenced += node[\"input\"]\n",
    "    for n, node in enumerate(graph):\n",
    "      if n not in referenced:\n",
    "        return n\n",
    "    \n",
    "def number_of_arguments(graph):\n",
    "    n_arg = 0\n",
    "    for n, node in enumerate(graph):\n",
    "        lib_entry = lib[node[\"lib_id\"]]\n",
    "        node_type = lib_entry[\"type\"]\n",
    "        if node_type == \"value\":\n",
    "            n_arg += 1\n",
    "    return n_arg\n",
    "\n",
    "def input_info(graph):\n",
    "    args = []\n",
    "    for n, node in enumerate(graph):\n",
    "        lib_entry = lib[node[\"lib_id\"]]\n",
    "        node_type = lib_entry[\"type\"]\n",
    "        if node_type == \"value\":\n",
    "            args.append([n,node[\"arg_index\"]])\n",
    "    n_args = len(args)\n",
    "    arguments = [0 for i in range(n_args)]\n",
    "    for arg in args:\n",
    "        arguments[arg[1]] = arg[0]\n",
    "    return arguments\n",
    "\n",
    "def insert_at(donor_graph,recipient_graph,site=-1):\n",
    "    recipient_args = input_info(recipient_graph)\n",
    "    donor_args = input_info(donor_graph)\n",
    "    if site == -1:\n",
    "        site = randint(0,len(recipient_args)-1)\n",
    "    site_index = recipient_args[site]\n",
    "    site_arg_index = recipient_graph[site_index][\"arg_index\"]\n",
    "    donor_output = find_output_node(donor_graph)\n",
    "    new_graph = [deepcopy(node) for node in recipient_graph]\n",
    "    new_graph.pop(site_index)\n",
    "    for n, node in enumerate(new_graph):\n",
    "        lib_entry = lib[node[\"lib_id\"]]\n",
    "        node_type = lib_entry[\"type\"]\n",
    "        if node_type == \"function\" or node_type == \"graph\":\n",
    "            node_input = [ni for ni in node[\"input\"]]\n",
    "            for s, subnode in enumerate(node_input):\n",
    "                if subnode > site_index:\n",
    "                    node_input[s] = subnode - 1\n",
    "                elif subnode == site_index:\n",
    "                    node_input[s] = donor_output + len(new_graph)\n",
    "            node[\"input\"] = node_input\n",
    "        elif node_type == \"value\":\n",
    "            node[\"arg_index\"] -= (1 if node[\"arg_index\"] > site_arg_index else 0)\n",
    "    processed_donor = [deepcopy(node) for node in donor_graph]\n",
    "    for n, node in enumerate(processed_donor):\n",
    "        lib_entry = lib[node[\"lib_id\"]]\n",
    "        node_type = lib_entry[\"type\"]\n",
    "        if node_type == \"function\" or node_type == \"graph\":\n",
    "            node_input = [ni for ni in node[\"input\"]]\n",
    "            node[\"input\"] = [ni + len(new_graph) for ni in node_input]\n",
    "        elif node_type == \"value\":\n",
    "            node[\"arg_index\"] += len(recipient_args) - 1\n",
    "    return new_graph+processed_donor"
   ]
  },
  {
   "cell_type": "code",
   "execution_count": 79,
   "metadata": {},
   "outputs": [
    {
     "data": {
      "image/png": "[encoded data removed]",
      "text/plain": [
       "<matplotlib.figure.Figure at 0x110be1f60>"
      ]
     },
     "metadata": {},
     "output_type": "display_data"
    }
   ],
   "source": [
    "pylab.close()\n",
    "x = numpy.linspace(-10,10,100)\n",
    "values = [random() for n in range(number_of_arguments(g2))]\n",
    "value_matrix = [[(xe if v == 0 else value) for v, value in enumerate(values)] for xe in x]\n",
    "y = numpy.array([ eval(g2,value_matrix[i]) for i in range(len(value_matrix)) ])\n",
    "pylab.plot(x,y)\n",
    "pylab.show()"
   ]
  },
  {
   "cell_type": "code",
   "execution_count": 149,
   "metadata": {},
   "outputs": [
    {
     "data": {
      "text/plain": [
       "{'aa': [5, 2], 'aaa': 2}"
      ]
     },
     "execution_count": 149,
     "metadata": {},
     "output_type": "execute_result"
    }
   ],
   "source": [
    "a={\"aa\":[1,2],\"aaa\":2}\n",
    "b=a[\"aa\"]\n",
    "b[0]=5\n",
    "a"
   ]
  },
  {
   "cell_type": "code",
   "execution_count": 142,
   "metadata": {},
   "outputs": [
    {
     "ename": "TypeError",
     "evalue": "can only concatenate list (not \"int\") to list",
     "output_type": "error",
     "traceback": [
      "\u001b[0;31m---------------------------------------------------------------------------\u001b[0m",
      "\u001b[0;31mTypeError\u001b[0m                                 Traceback (most recent call last)",
      "\u001b[0;32m<ipython-input-142-9d18b5271490>\u001b[0m in \u001b[0;36m<module>\u001b[0;34m()\u001b[0m\n\u001b[1;32m      1\u001b[0m \u001b[0ma\u001b[0m\u001b[0;34m=\u001b[0m\u001b[0;34m[\u001b[0m\u001b[0;36m4\u001b[0m\u001b[0;34m,\u001b[0m\u001b[0;36m5\u001b[0m\u001b[0;34m,\u001b[0m\u001b[0;36m6\u001b[0m\u001b[0;34m,\u001b[0m\u001b[0;36m7\u001b[0m\u001b[0;34m,\u001b[0m\u001b[0;36m8\u001b[0m\u001b[0;34m]\u001b[0m\u001b[0;34m\u001b[0m\u001b[0m\n\u001b[0;32m----> 2\u001b[0;31m \u001b[0ma\u001b[0m\u001b[0;34m+\u001b[0m\u001b[0;36m1\u001b[0m\u001b[0;34m\u001b[0m\u001b[0m\n\u001b[0m",
      "\u001b[0;31mTypeError\u001b[0m: can only concatenate list (not \"int\") to list"
     ]
    }
   ],
   "source": [
    "a0 a1 a2 a3 a4\n",
    "a0 a1 a3 a4 b0 b1"
   ]
  },
  {
   "cell_type": "code",
   "execution_count": null,
   "metadata": {
    "collapsed": true
   },
   "outputs": [],
   "source": []
  }
 ],
 "metadata": {
  "kernelspec": {
   "display_name": "Python [conda root]",
   "language": "python",
   "name": "conda-root-py"
  },
  "language_info": {
   "codemirror_mode": {
    "name": "ipython",
    "version": 3
   },
   "file_extension": ".py",
   "mimetype": "text/x-python",
   "name": "python",
   "nbconvert_exporter": "python",
   "pygments_lexer": "ipython3",
   "version": "3.6.1"
  }
 },
 "nbformat": 4,
 "nbformat_minor": 2
}
