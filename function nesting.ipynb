{
 "cells": [
  {
   "cell_type": "code",
   "execution_count": 3,
   "metadata": {},
   "outputs": [],
   "source": [
    "import pylab\n",
    "import numpy\n",
    "from random import random\n",
    "\n",
    "lib = []\n",
    "lib.append( lambda *a: a[0]*a[1]+a[2] )\n",
    "lib.append( lambda *a: a[0]*a[1] )\n",
    "lib.append( lambda *a: lib[0](a[0],a[1],lib[1](a[0],a[1]))  )\n",
    "\n",
    "#I would have prefered to use the following code but I can't get it to work (it raises an error when I call lib[2][\"function\"])\n",
    "#element = {}\n",
    "#element[\"function\"] = lambda *a: a[0]*a[1]+a[2]\n",
    "#element[\"args\"] = [\"parameter\",\"variable\",\"parameter\"]\n",
    "#lib.append(element)\n",
    "#element = {}\n",
    "#element[\"function\"] = lambda *a: a[0]*a[1]\n",
    "#element[\"args\"] = [\"parameter\",\"variable\"]\n",
    "#lib.append(element)\n",
    "#element = {}\n",
    "#element[\"function\"] = lambda *a: lib[0](a[0],a[1],lib[1](a[0],a[1]))\n",
    "#element[\"args\"] = [\"parameter\",\"variable\"]\n",
    "#lib.append(element)"
   ]
  },
  {
   "cell_type": "code",
   "execution_count": 4,
   "metadata": {},
   "outputs": [
    {
     "data": {
      "image/png": "[encoded data removed]",
      "text/plain": [
       "<matplotlib.figure.Figure at 0x10d8abe80>"
      ]
     },
     "metadata": {},
     "output_type": "display_data"
    }
   ],
   "source": [
    "pylab.close()\n",
    "x = numpy.linspace(-10,10,100)\n",
    "p = [ random() for i in range(2) ]\n",
    "g = lambda x: lib[0](p[0],x,p[1])\n",
    "y = numpy.array([g(xe) for xe in x])\n",
    "pylab.plot(x,y)\n",
    "p = [ random() for i in range(1) ]\n",
    "g = lambda x: lib[1](p[0],x)\n",
    "y = numpy.array([g(xe) for xe in x])\n",
    "pylab.plot(x,y)\n",
    "p = [ random() for i in range(1) ]\n",
    "g = lambda x: lib[2](p[0],x)\n",
    "y = numpy.array([g(xe) for xe in x])\n",
    "pylab.plot(x,y)\n",
    "\n",
    "pylab.show()"
   ]
  },
  {
   "cell_type": "code",
   "execution_count": null,
   "metadata": {
    "collapsed": true
   },
   "outputs": [],
   "source": [
    "#for function in lib:\n",
    "#    args = function[\"args\"]\n",
    "#    for i, arg in enumerate(args):\n",
    "#        if arg == \"parameter\":\n",
    "#            args[i] = random()\n",
    "#        else:\n",
    "#            args[i] = random()\n",
    "#    g = lambda x: lib[0][\"function\"](random(),x,random())\n",
    "#    x = numpy.linspace(-10,10,100)\n",
    "#    y = numpy.array([g(xe) for xe in x])\n",
    "#    pylab.plot(x,y)\n",
    "#\n",
    "#pylab.show()"
   ]
  },
  {
   "cell_type": "code",
   "execution_count": null,
   "metadata": {},
   "outputs": [],
   "source": [
    "p = [ random() for i in range(2) ]\n",
    "p"
   ]
  },
  {
   "cell_type": "code",
   "execution_count": null,
   "metadata": {
    "collapsed": true
   },
   "outputs": [],
   "source": []
  }
 ],
 "metadata": {
  "kernelspec": {
   "display_name": "Python [conda root]",
   "language": "python",
   "name": "conda-root-py"
  },
  "language_info": {
   "codemirror_mode": {
    "name": "ipython",
    "version": 3
   },
   "file_extension": ".py",
   "mimetype": "text/x-python",
   "name": "python",
   "nbconvert_exporter": "python",
   "pygments_lexer": "ipython3",
   "version": "3.6.1"
  }
 },
 "nbformat": 4,
 "nbformat_minor": 2
}
