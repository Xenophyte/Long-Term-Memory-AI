{
 "cells": [
  {
   "cell_type": "code",
   "execution_count": 52,
   "metadata": {},
   "outputs": [],
   "source": [
    "import pylab\n",
    "import numpy\n",
    "from random import random, randint\n",
    "from copy import deepcopy\n",
    "import networkx as nx\n",
    "from networkx.drawing.nx_agraph import graphviz_layout\n",
    "import matplotlib.pyplot as plt"
   ]
  },
  {
   "cell_type": "code",
   "execution_count": 88,
   "metadata": {},
   "outputs": [],
   "source": [
    "#library of elements; there are three types: value, function (+,-,*,/) or graph\n",
    "lib = [{\"type\":\"value\",\"symbol\":\"v\"},{\"type\":\"function\",\"function\":lambda a:a[0]+a[1],\"symbol\":\"+\"},{\"type\":\"function\",\"function\":lambda a:a[0]-a[1],\"symbol\":\"-\"},{\"type\":\"function\",\"function\":lambda a:a[0]*a[1],\"symbol\":\"*\"},{\"type\":\"function\",\"function\":lambda a:a[0]/a[1],\"symbol\":\"/\"}]\n",
    "#add a graph for each operator\n",
    "for n in range(1,4):\n",
    "    g = {\"type\":\"graph\",\"graph\":[{\"lib_id\":0,\"input\":[],\"arg_index\":0},{\"lib_id\":0,\"input\":[],\"arg_index\":1},{\"lib_id\":n,\"input\":[0,1]}]}\n",
    "    lib.append(g)"
   ]
  },
  {
   "cell_type": "code",
   "execution_count": 89,
   "metadata": {},
   "outputs": [],
   "source": [
    "#function that takes in a graph and a list of input numbers and evaluates its result\n",
    "def eval(graph,values,index=-1):\n",
    "  #this case corresponds to \n",
    "  if index == -1:\n",
    "    index = find_output_node(graph)\n",
    "  node = graph[index]\n",
    "  lib_entry = lib[node[\"lib_id\"]]\n",
    "  node_type = lib_entry[\"type\"]\n",
    "  if node_type == \"value\":\n",
    "    return values[node[\"arg_index\"]]\n",
    "  else:\n",
    "    args = []\n",
    "    for argument in node[\"input\"]:\n",
    "      arg = eval(graph,values,argument)\n",
    "      args.append(arg)\n",
    "    if node_type == \"function\":\n",
    "        return lib_entry[\"function\"](args)\n",
    "    elif node_type == \"graph\":\n",
    "        return eval(lib_entry[\"graph\"](args),args)\n",
    "\n",
    "#returns the position of the output node within the graph\n",
    "def find_output_node(graph):\n",
    "    referenced = []\n",
    "    for node in graph:\n",
    "      referenced += node[\"input\"]\n",
    "    for n, node in enumerate(graph):\n",
    "      if n not in referenced:\n",
    "        return n\n",
    "\n",
    "#returns the number of arguments of a graph\n",
    "def number_of_arguments(graph):\n",
    "    n_arg = 0\n",
    "    for n, node in enumerate(graph):\n",
    "        lib_entry = lib[node[\"lib_id\"]]\n",
    "        node_type = lib_entry[\"type\"]\n",
    "        if node_type == \"value\":\n",
    "            n_arg += 1\n",
    "    return n_arg\n",
    "\n",
    "#returns a list with elements of the type [position of the argument in the graph,argument index in the argument vector]\n",
    "def input_info(graph):\n",
    "    args = []\n",
    "    for n, node in enumerate(graph):\n",
    "        lib_entry = lib[node[\"lib_id\"]]\n",
    "        node_type = lib_entry[\"type\"]\n",
    "        if node_type == \"value\":\n",
    "            args.append([n,node[\"arg_index\"]])\n",
    "    n_args = len(args)\n",
    "    arguments = [0 for i in range(n_args)]\n",
    "    for arg in args:\n",
    "        arguments[arg[1]] = arg[0]\n",
    "    return arguments\n",
    "\n",
    "#function that combines two graphs by using the output node of the second graph as one of the inputs of the first\n",
    "def insert_at(donor_graph,recipient_graph,site=-1):\n",
    "    recipient_args = input_info(recipient_graph)\n",
    "    donor_args = input_info(donor_graph)\n",
    "    if site == -1:\n",
    "        site = randint(0,len(recipient_args)-1)\n",
    "    site_index = recipient_args[site]\n",
    "    site_arg_index = recipient_graph[site_index][\"arg_index\"]\n",
    "    donor_output = find_output_node(donor_graph)\n",
    "    new_graph = [deepcopy(node) for node in recipient_graph]\n",
    "    new_graph.pop(site_index)\n",
    "    for n, node in enumerate(new_graph):\n",
    "        lib_entry = lib[node[\"lib_id\"]]\n",
    "        node_type = lib_entry[\"type\"]\n",
    "        if node_type == \"function\" or node_type == \"graph\":\n",
    "            node_input = [ni for ni in node[\"input\"]]\n",
    "            for s, subnode in enumerate(node_input):\n",
    "                if subnode > site_index:\n",
    "                    node_input[s] = subnode - 1\n",
    "                elif subnode == site_index:\n",
    "                    node_input[s] = donor_output + len(new_graph)\n",
    "            node[\"input\"] = node_input\n",
    "        elif node_type == \"value\":\n",
    "            node[\"arg_index\"] -= (1 if node[\"arg_index\"] > site_arg_index else 0)\n",
    "    processed_donor = [deepcopy(node) for node in donor_graph]\n",
    "    for n, node in enumerate(processed_donor):\n",
    "        lib_entry = lib[node[\"lib_id\"]]\n",
    "        node_type = lib_entry[\"type\"]\n",
    "        if node_type == \"function\" or node_type == \"graph\":\n",
    "            node_input = [ni for ni in node[\"input\"]]\n",
    "            node[\"input\"] = [ni + len(new_graph) for ni in node_input]\n",
    "        elif node_type == \"value\":\n",
    "            node[\"arg_index\"] += len(recipient_args) - 1\n",
    "    return new_graph+processed_donor\n",
    "\n",
    "#this function draws the graph\n",
    "def draw(graph):\n",
    "    G = G=nx.MultiDiGraph()\n",
    "    for n, node in enumerate(graph):\n",
    "        G.add_node(n,attr_dict=node)\n",
    "    for n1, node in enumerate(graph):\n",
    "        for i, n2 in enumerate(node[\"input\"]):\n",
    "            G.add_edge(n2, n1, attr_dict={\"arg\":i})\n",
    "    labels = {}\n",
    "    for n, node in enumerate(G.nodes(data=True)):\n",
    "        labels[n] = lib[node[1][\"lib_id\"]][\"symbol\"]\n",
    "    plt.close()\n",
    "    nx.draw(G,labels = labels,with_labels = True,pos=nx.spring_layout(G))\n",
    "    plt.show()\n",
    "\n",
    "#given a set of parameters \n",
    "def error(graph,parameters,variable_position,data):\n",
    "    X = data[\"x\"]\n",
    "    Y = data[\"y\"]\n",
    "    e = 0\n",
    "    arg = deepcopy(parameters)\n",
    "    for x,y in zip(X,Y):\n",
    "        arg[variable_position] = x\n",
    "        e += (y-eval(graph,arg))**2\n",
    "    return e\n",
    "\n",
    "#optimizes a given graph on a set of data points x and y\n",
    "def optimize(graph,data):\n",
    "    n_args = number_of_arguments(graph)\n",
    "    v = randint(0,n_args-1)\n",
    "    \n",
    "    #for a in range(n_args):\n",
    "        "
   ]
  },
  {
   "cell_type": "code",
   "execution_count": 46,
   "metadata": {},
   "outputs": [
    {
     "data": {
      "image/png": "[encoded data removed]",
      "text/plain": [
       "<matplotlib.figure.Figure at 0x119a3f748>"
      ]
     },
     "metadata": {},
     "output_type": "display_data"
    }
   ],
   "source": [
    "pylab.close()\n",
    "g3 = insert_at(g2,g1)\n",
    "x = numpy.linspace(-10,10,100)\n",
    "values = [random() for n in range(number_of_arguments(g3))]\n",
    "value_matrix = [[(xe if v == 0 else value) for v, value in enumerate(values)] for xe in x]\n",
    "y = numpy.array([ eval(g3,value_matrix[i]) for i in range(len(value_matrix)) ])\n",
    "pylab.plot(x,y)\n",
    "pylab.show()"
   ]
  },
  {
   "cell_type": "code",
   "execution_count": 48,
   "metadata": {},
   "outputs": [
    {
     "name": "stderr",
     "output_type": "stream",
     "text": [
      "/Users/david/anaconda/lib/python3.6/site-packages/networkx/drawing/nx_pylab.py:126: MatplotlibDeprecationWarning: pyplot.hold is deprecated.\n",
      "    Future behavior will be consistent with the long-time default:\n",
      "    plot commands add elements without first clearing the\n",
      "    Axes and/or Figure.\n",
      "  b = plt.ishold()\n",
      "/Users/david/anaconda/lib/python3.6/site-packages/networkx/drawing/nx_pylab.py:138: MatplotlibDeprecationWarning: pyplot.hold is deprecated.\n",
      "    Future behavior will be consistent with the long-time default:\n",
      "    plot commands add elements without first clearing the\n",
      "    Axes and/or Figure.\n",
      "  plt.hold(b)\n",
      "/Users/david/anaconda/lib/python3.6/site-packages/matplotlib/__init__.py:917: UserWarning: axes.hold is deprecated. Please remove it from your matplotlibrc and/or style files.\n",
      "  warnings.warn(self.msg_depr_set % key)\n",
      "/Users/david/anaconda/lib/python3.6/site-packages/matplotlib/rcsetup.py:152: UserWarning: axes.hold is deprecated, will be removed in 3.0\n",
      "  warnings.warn(\"axes.hold is deprecated, will be removed in 3.0\")\n"
     ]
    },
    {
     "data": {
      "image/png": "[encoded data removed]",
      "text/plain": [
       "<matplotlib.figure.Figure at 0x119a3f5f8>"
      ]
     },
     "metadata": {},
     "output_type": "display_data"
    }
   ],
   "source": [
    "draw(g3)"
   ]
  },
  {
   "cell_type": "code",
   "execution_count": 96,
   "metadata": {},
   "outputs": [
    {
     "data": {
      "text/plain": [
       "0.0"
      ]
     },
     "execution_count": 96,
     "metadata": {},
     "output_type": "execute_result"
    }
   ],
   "source": [
    "x = numpy.linspace(-10,10,100)\n",
    "y = 2*x\n",
    "error(lib[7][\"graph\"],[2.,2],1,{\"x\":x,\"y\":y})"
   ]
  },
  {
   "cell_type": "code",
   "execution_count": null,
   "metadata": {
    "collapsed": true
   },
   "outputs": [],
   "source": []
  }
 ],
 "metadata": {
  "kernelspec": {
   "display_name": "Python [conda root]",
   "language": "python",
   "name": "conda-root-py"
  },
  "language_info": {
   "codemirror_mode": {
    "name": "ipython",
    "version": 3
   },
   "file_extension": ".py",
   "mimetype": "text/x-python",
   "name": "python",
   "nbconvert_exporter": "python",
   "pygments_lexer": "ipython3",
   "version": "3.6.1"
  }
 },
 "nbformat": 4,
 "nbformat_minor": 2
}
